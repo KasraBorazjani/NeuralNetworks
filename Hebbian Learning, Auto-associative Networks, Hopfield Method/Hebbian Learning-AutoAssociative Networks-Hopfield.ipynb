{
  "nbformat": 4,
  "nbformat_minor": 0,
  "metadata": {
    "colab": {
      "name": "NNDL_HW3_810196662.ipynb",
      "provenance": [],
      "collapsed_sections": [],
      "toc_visible": true
    },
    "kernelspec": {
      "name": "python3",
      "display_name": "Python 3"
    },
    "language_info": {
      "name": "python"
    }
  },
  "cells": [
    {
      "cell_type": "markdown",
      "metadata": {
        "id": "JunKgFVoEkMY"
      },
      "source": [
        "NNDL HW3 \\\\\n",
        "Kasra Borazjani \\\\\n",
        "810196662"
      ]
    },
    {
      "cell_type": "markdown",
      "metadata": {
        "id": "oYKRpDNAEWTl"
      },
      "source": [
        "# Question 1. Hebbian Learning"
      ]
    },
    {
      "cell_type": "markdown",
      "metadata": {
        "id": "4aYKQl3ZEcMY"
      },
      "source": [
        "## Part 1. Data Preparation"
      ]
    },
    {
      "cell_type": "code",
      "metadata": {
        "id": "BgEf9kCEETYy"
      },
      "source": [
        "import numpy as np\n",
        "import matplotlib.pyplot as plt\n",
        "%matplotlib inline"
      ],
      "execution_count": null,
      "outputs": []
    },
    {
      "cell_type": "code",
      "metadata": {
        "colab": {
          "base_uri": "https://localhost:8080/"
        },
        "id": "Ho3dZZAgDcDY",
        "outputId": "4390fc15-bf9b-40e5-ec06-4edd282cbaf0"
      },
      "source": [
        " A = np.array([\n",
        "    -1, -1, -1, +1, -1, -1, -1,\n",
        "    -1, -1, -1, +1, -1, -1, -1,\n",
        "    -1, -1, -1, +1, -1, -1, -1,\n",
        "    -1, -1, +1, -1, +1, -1, -1,\n",
        "    -1, -1, +1, -1, +1, -1, -1,\n",
        "    -1, +1, +1, +1, +1, +1, -1,\n",
        "    -1, +1, -1, -1, -1, +1, -1,\n",
        "    -1, +1, -1, -1, -1, +1, -1,\n",
        "    +1, +1, +1, -1, +1, +1, +1])\n",
        "\n",
        "a = np.array([\n",
        "    -1, +1, -1,\n",
        "    +1, -1, +1, \n",
        "    +1, +1, +1,\n",
        "    +1, -1, +1,\n",
        "    +1, -1, +1])\n",
        " B = np.array([\n",
        "    +1, +1, +1, +1, +1, +1, +1,\n",
        "    +1, -1, -1, -1, -1, -1, +1,\n",
        "    +1, -1, -1, -1, -1, +1, -1,\n",
        "    +1, -1, -1, -1, +1, -1, -1,\n",
        "    +1, +1, +1, +1, -1, -1, -1,\n",
        "    +1, -1, -1, -1, +1, -1, -1,\n",
        "    +1, -1, -1, -1, -1, +1, -1,\n",
        "    +1, -1, -1, -1, -1, -1, +1,\n",
        "    +1, +1, +1, +1, +1, +1, +1\n",
        "])\n",
        "\n",
        "\n",
        "B = np.array([\n",
        "    +1, +1, +1, +1, +1, +1, +1,\n",
        "    +1, -1, -1, -1, -1, -1, +1,\n",
        "    +1, -1, -1, -1, -1, +1, -1,\n",
        "    +1, -1, -1, -1, +1, -1, -1,\n",
        "    +1, +1, +1, +1, -1, -1, -1,\n",
        "    +1, -1, -1, -1, +1, -1, -1,\n",
        "    +1, -1, -1, -1, -1, +1, -1,\n",
        "    +1, -1, -1, -1, -1, -1, +1,\n",
        "    +1, +1, +1, +1, +1, +1, +1\n",
        "])\n",
        "\n",
        "\n",
        "b = np.array([\n",
        "    +1, +1, -1,\n",
        "    +1, -1, +1, \n",
        "    +1, +1, -1,\n",
        "    +1, -1, +1,\n",
        "    +1, +1, -1\n",
        "])\n",
        "\n",
        "\n",
        "C = np.array([\n",
        "    -1, -1, +1, +1, +1, +1, -1,\n",
        "    -1, +1, -1, -1, -1, -1, +1,\n",
        "    +1, -1, -1, -1, -1, -1, -1,\n",
        "    +1, -1, -1, -1, -1, -1, -1,\n",
        "    +1, -1, -1, -1, -1, -1, -1,\n",
        "    +1, -1, -1, -1, -1, -1, -1,\n",
        "    +1, -1, -1, -1, -1, -1, -1,\n",
        "    -1, +1, -1, -1, -1, -1, +1,\n",
        "    -1, -1, +1, +1, +1, +1, -1\n",
        "])\n",
        "\n",
        "\n",
        "c = np.array([\n",
        "    -1, +1, +1,\n",
        "    +1, -1, -1, \n",
        "    +1, -1, -1,\n",
        "    +1, -1, -1,\n",
        "    -1, +1, +1\n",
        "])\n",
        "\n",
        "A = A.reshape(-1, 1)\n",
        "B = B.reshape(-1, 1)\n",
        "C = C.reshape(-1, 1)\n",
        "\n",
        "a = a.reshape(-1, 1)\n",
        "b = b.reshape(-1, 1)\n",
        "c = c.reshape(-1, 1)\n",
        "\n",
        "print(A.shape)\n",
        "print(a.shape)"
      ],
      "execution_count": null,
      "outputs": [
        {
          "output_type": "stream",
          "text": [
            "(63, 1)\n",
            "(15, 1)\n"
          ],
          "name": "stdout"
        }
      ]
    },
    {
      "cell_type": "code",
      "metadata": {
        "id": "wCjooAaC884n",
        "colab": {
          "base_uri": "https://localhost:8080/",
          "height": 282
        },
        "outputId": "0332acd8-94dc-4632-dbb2-596df7dfdb2c"
      },
      "source": [
        "plt.imshow(A.reshape(9,7))"
      ],
      "execution_count": null,
      "outputs": [
        {
          "output_type": "execute_result",
          "data": {
            "text/plain": [
              "<matplotlib.image.AxesImage at 0x7fce591eac10>"
            ]
          },
          "metadata": {
            "tags": []
          },
          "execution_count": 5
        },
        {
          "output_type": "display_data",
          "data": {
            "image/png": "[encoded data removed]",
            "text/plain": [
              "<Figure size 432x288 with 1 Axes>"
            ]
          },
          "metadata": {
            "tags": [],
            "needs_background": "light"
          }
        }
      ]
    },
    {
      "cell_type": "code",
      "metadata": {
        "id": "fapAGo8-8_oh",
        "colab": {
          "base_uri": "https://localhost:8080/",
          "height": 282
        },
        "outputId": "fddd7eda-c460-4d33-856d-1b96b5e647a3"
      },
      "source": [
        "plt.imshow(B.reshape(9,7))"
      ],
      "execution_count": null,
      "outputs": [
        {
          "output_type": "execute_result",
          "data": {
            "text/plain": [
              "<matplotlib.image.AxesImage at 0x7fce58bf0110>"
            ]
          },
          "metadata": {
            "tags": []
          },
          "execution_count": 7
        },
        {
          "output_type": "display_data",
          "data": {
            "image/png": "[encoded data removed]",
            "text/plain": [
              "<Figure size 432x288 with 1 Axes>"
            ]
          },
          "metadata": {
            "tags": [],
            "needs_background": "light"
          }
        }
      ]
    },
    {
      "cell_type": "code",
      "metadata": {
        "id": "ZBf7dcuW9BMu",
        "colab": {
          "base_uri": "https://localhost:8080/",
          "height": 282
        },
        "outputId": "f4408cec-880b-43a8-f1ea-ad7cc1747543"
      },
      "source": [
        "plt.imshow(C.reshape(9,7))"
      ],
      "execution_count": null,
      "outputs": [
        {
          "output_type": "execute_result",
          "data": {
            "text/plain": [
              "<matplotlib.image.AxesImage at 0x7fce58bd7c50>"
            ]
          },
          "metadata": {
            "tags": []
          },
          "execution_count": 8
        },
        {
          "output_type": "display_data",
          "data": {
            "image/png": "[encoded data removed]",
            "text/plain": [
              "<Figure size 432x288 with 1 Axes>"
            ]
          },
          "metadata": {
            "tags": [],
            "needs_background": "light"
          }
        }
      ]
    },
    {
      "cell_type": "code",
      "metadata": {
        "id": "Fae8_KQK9Cdq",
        "colab": {
          "base_uri": "https://localhost:8080/",
          "height": 282
        },
        "outputId": "d6c2996f-2943-4f64-c96e-0e25923229f5"
      },
      "source": [
        "plt.imshow(a.reshape(5,3))"
      ],
      "execution_count": null,
      "outputs": [
        {
          "output_type": "execute_result",
          "data": {
            "text/plain": [
              "<matplotlib.image.AxesImage at 0x7fce58c8b590>"
            ]
          },
          "metadata": {
            "tags": []
          },
          "execution_count": 6
        },
        {
          "output_type": "display_data",
          "data": {
            "image/png": "[encoded data removed]",
            "text/plain": [
              "<Figure size 432x288 with 1 Axes>"
            ]
          },
          "metadata": {
            "tags": [],
            "needs_background": "light"
          }
        }
      ]
    },
    {
      "cell_type": "code",
      "metadata": {
        "id": "5Crq_ZTw9D2F",
        "colab": {
          "base_uri": "https://localhost:8080/",
          "height": 282
        },
        "outputId": "aa337d73-76ea-4fec-fd38-a05cbe24c205"
      },
      "source": [
        "plt.imshow(b.reshape(5,3))"
      ],
      "execution_count": null,
      "outputs": [
        {
          "output_type": "execute_result",
          "data": {
            "text/plain": [
              "<matplotlib.image.AxesImage at 0x7fce58b46650>"
            ]
          },
          "metadata": {
            "tags": []
          },
          "execution_count": 9
        },
        {
          "output_type": "display_data",
          "data": {
            "image/png": "[encoded data removed]",
            "text/plain": [
              "<Figure size 432x288 with 1 Axes>"
            ]
          },
          "metadata": {
            "tags": [],
            "needs_background": "light"
          }
        }
      ]
    },
    {
      "cell_type": "code",
      "metadata": {
        "id": "xj6WyW6R9FLy",
        "colab": {
          "base_uri": "https://localhost:8080/",
          "height": 282
        },
        "outputId": "9b60e2cf-c21c-4174-9458-4889bcc1f6c0"
      },
      "source": [
        "plt.imshow(c.reshape(5,3))\n"
      ],
      "execution_count": null,
      "outputs": [
        {
          "output_type": "execute_result",
          "data": {
            "text/plain": [
              "<matplotlib.image.AxesImage at 0x7fce58b1fd10>"
            ]
          },
          "metadata": {
            "tags": []
          },
          "execution_count": 10
        },
        {
          "output_type": "display_data",
          "data": {
            "image/png": "[encoded data removed]",
            "text/plain": [
              "<Figure size 432x288 with 1 Axes>"
            ]
          },
          "metadata": {
            "tags": [],
            "needs_background": "light"
          }
        }
      ]
    },
    {
      "cell_type": "markdown",
      "metadata": {
        "id": "A0DcrT1eEt6M"
      },
      "source": [
        "## Part 2. Learning Method Implementation"
      ]
    },
    {
      "cell_type": "code",
      "metadata": {
        "id": "uP9_rq9PK1Uh"
      },
      "source": [
        "def sign_cus(matrix):\n",
        "  return 2*(matrix>0)-1"
      ],
      "execution_count": null,
      "outputs": []
    },
    {
      "cell_type": "code",
      "metadata": {
        "id": "ZY6cUXMYExVE"
      },
      "source": [
        "W = np.zeros((63,15))\n",
        "charList = [[A,a], [B,b], [C,c]]\n",
        "for i in range(3):\n",
        "  W += np.matmul(charList[i][0], charList[i][1].T)"
      ],
      "execution_count": null,
      "outputs": []
    },
    {
      "cell_type": "code",
      "metadata": {
        "id": "61ed6vkuL48t"
      },
      "source": [
        "a_res = sign_cus(np.matmul(A.T, W))\n",
        "print(a_res)\n",
        "plt.imshow(a_res.reshape(5,3))"
      ],
      "execution_count": null,
      "outputs": []
    },
    {
      "cell_type": "code",
      "metadata": {
        "id": "Wwen1mmeOZzw"
      },
      "source": [
        "b_res = np.sign(np.matmul(B.T, W))\n",
        "print(b_res)\n",
        "plt.imshow(b_res.reshape(5,3))"
      ],
      "execution_count": null,
      "outputs": []
    },
    {
      "cell_type": "code",
      "metadata": {
        "id": "PoHrVDncOgKE"
      },
      "source": [
        "c_res = np.sign(np.matmul(C.T, W))\n",
        "print(c_res)\n",
        "plt.imshow(c_res.reshape(5,3))"
      ],
      "execution_count": null,
      "outputs": []
    },
    {
      "cell_type": "markdown",
      "metadata": {
        "id": "VqOhlY5IOs6i"
      },
      "source": [
        "## Part 3. Detection in the Presence of Noise"
      ]
    },
    {
      "cell_type": "markdown",
      "metadata": {
        "id": "DC5CSKOSPIhc"
      },
      "source": [
        "### 3.1. Ten percent noise"
      ]
    },
    {
      "cell_type": "code",
      "metadata": {
        "id": "xHkfIR_FO1m7"
      },
      "source": [
        "try_count = 1000\n",
        "correct_count_a = 0\n",
        "correct_count_b = 0\n",
        "correct_count_c = 0\n",
        "for i in range(try_count):\n",
        "  new_A = A.copy()\n",
        "  new_B = B.copy()\n",
        "  new_C = C.copy()\n",
        "  change_indexes = np.random.choice(range(63), int(0.1*63), replace=False)\n",
        "  for j in change_indexes:\n",
        "    new_A[j] *= -1\n",
        "    new_B[j] *= -1\n",
        "    new_C[j] *= -1\n",
        "  if np.array_equal(np.sign(np.matmul(new_C.T, W)).T, c):\n",
        "    correct_count_c += 1\n",
        "  if np.array_equal(np.sign(np.matmul(new_B.T, W)).T, b):\n",
        "    correct_count_b += 1\n",
        "  if np.array_equal(np.sign(np.matmul(new_A.T, W)).T, a):\n",
        "    correct_count_a += 1\n",
        "\n",
        "print(\"Accuracy for letter 'A' = {}\".format(correct_count_a/try_count*100))\n",
        "print(\"Accuracy for letter 'B' = {}\".format(correct_count_b/try_count*100))\n",
        "print(\"Accuracy for letter 'C' = {}\".format(correct_count_c/try_count*100))"
      ],
      "execution_count": null,
      "outputs": []
    },
    {
      "cell_type": "markdown",
      "metadata": {
        "id": "CaUTExQqX_D4"
      },
      "source": [
        "### 3.2. 25% Noise"
      ]
    },
    {
      "cell_type": "code",
      "metadata": {
        "id": "8TC7swomUhI0"
      },
      "source": [
        "try_count = 1000\n",
        "correct_count_a = 0\n",
        "correct_count_b = 0\n",
        "correct_count_c = 0\n",
        "for i in range(try_count):\n",
        "  new_A = A.copy()\n",
        "  new_B = B.copy()\n",
        "  new_C = C.copy()\n",
        "  change_indexes = np.random.choice(range(63), int(0.25*63), replace=False)\n",
        "  for j in change_indexes:\n",
        "    new_A[j] *= -1\n",
        "    new_B[j] *= -1\n",
        "    new_C[j] *= -1\n",
        "  if np.array_equal(np.sign(np.matmul(new_C.T, W)).T, c):\n",
        "    correct_count_c += 1\n",
        "  if np.array_equal(np.sign(np.matmul(new_B.T, W)).T, b):\n",
        "    correct_count_b += 1\n",
        "  if np.array_equal(np.sign(np.matmul(new_A.T, W)).T, a):\n",
        "    correct_count_a += 1\n",
        "\n",
        "print(\"Accuracy for letter 'A' = {}\".format(correct_count_a/try_count*100))\n",
        "print(\"Accuracy for letter 'B' = {}\".format(correct_count_b/try_count*100))\n",
        "print(\"Accuracy for letter 'C' = {}\".format(correct_count_c/try_count*100))"
      ],
      "execution_count": null,
      "outputs": []
    },
    {
      "cell_type": "markdown",
      "metadata": {
        "id": "Bbpt1fQSYFaz"
      },
      "source": [
        "### 3.3. 10% Information Loss"
      ]
    },
    {
      "cell_type": "code",
      "metadata": {
        "id": "rl5kYwJ_Un0m"
      },
      "source": [
        "try_count = 1000\n",
        "correct_count_a = 0\n",
        "correct_count_b = 0\n",
        "correct_count_c = 0\n",
        "for i in range(try_count):\n",
        "  new_A = A.copy()\n",
        "  new_B = B.copy()\n",
        "  new_C = C.copy()\n",
        "  change_indexes = np.random.choice(range(63), int(0.1*63), replace=False)\n",
        "  for j in change_indexes:\n",
        "    new_A[j] = 0\n",
        "    new_B[j] = 0\n",
        "    new_C[j] = 0\n",
        "  if np.array_equal(np.sign(np.matmul(new_C.T, W)).T, c):\n",
        "    correct_count_c += 1\n",
        "  if np.array_equal(np.sign(np.matmul(new_B.T, W)).T, b):\n",
        "    correct_count_b += 1\n",
        "  if np.array_equal(np.sign(np.matmul(new_A.T, W)).T, a):\n",
        "    correct_count_a += 1\n",
        "\n",
        "print(\"Accuracy for letter 'A' = {}\".format(correct_count_a/try_count*100))\n",
        "print(\"Accuracy for letter 'B' = {}\".format(correct_count_b/try_count*100))\n",
        "print(\"Accuracy for letter 'C' = {}\".format(correct_count_c/try_count*100))"
      ],
      "execution_count": null,
      "outputs": []
    },
    {
      "cell_type": "markdown",
      "metadata": {
        "id": "Ox7rT8ADYLut"
      },
      "source": [
        "### 3.4. 25% Information Loss"
      ]
    },
    {
      "cell_type": "code",
      "metadata": {
        "id": "etLICFSKUzfT"
      },
      "source": [
        "try_count = 1000\n",
        "correct_count_a = 0\n",
        "correct_count_b = 0\n",
        "correct_count_c = 0\n",
        "for i in range(try_count):\n",
        "  new_A = A.copy()\n",
        "  new_B = B.copy()\n",
        "  new_C = C.copy()\n",
        "  change_indexes = np.random.choice(range(63), int(0.25*63), replace=False)\n",
        "  for j in change_indexes:\n",
        "    new_A[j] = 0\n",
        "    new_B[j] = 0\n",
        "    new_C[j] = 0\n",
        "  if np.array_equal(np.sign(np.matmul(new_C.T, W)).T, c):\n",
        "    correct_count_c += 1\n",
        "  if np.array_equal(np.sign(np.matmul(new_B.T, W)).T, b):\n",
        "    correct_count_b += 1\n",
        "  if np.array_equal(np.sign(np.matmul(new_A.T, W)).T, a):\n",
        "    correct_count_a += 1\n",
        "\n",
        "print(\"Accuracy for letter 'A' = {}\".format(correct_count_a/try_count*100))\n",
        "print(\"Accuracy for letter 'B' = {}\".format(correct_count_b/try_count*100))\n",
        "print(\"Accuracy for letter 'C' = {}\".format(correct_count_c/try_count*100))"
      ],
      "execution_count": null,
      "outputs": []
    },
    {
      "cell_type": "markdown",
      "metadata": {
        "id": "wO133ri3YQ6S"
      },
      "source": [
        "# Question 2. Auto-Associative Networks"
      ]
    },
    {
      "cell_type": "code",
      "metadata": {
        "id": "QITvKGhud_xy"
      },
      "source": [
        "def rand_vec(size, prob, feat_len):\n",
        "  return np.random.choice([-1,1], size=(size, feat_len), p=[prob, 1-prob])"
      ],
      "execution_count": null,
      "outputs": []
    },
    {
      "cell_type": "code",
      "metadata": {
        "id": "tg_FZl9heXW8"
      },
      "source": [
        "def noise_vec(vec, percent, feat_num):\n",
        "  new_vec = vec.copy()\n",
        "  change_indexes = np.random.choice(range(feat_num), int(percent*feat_num), replace=False)\n",
        "  for j in change_indexes:\n",
        "    new_vec[:,j] *= -1\n",
        "  \n",
        "  return new_vec"
      ],
      "execution_count": null,
      "outputs": []
    },
    {
      "cell_type": "code",
      "metadata": {
        "id": "Bg8k-Z32e-Cg"
      },
      "source": [
        "def autoAssWork(feat_len, vectors):\n",
        "  w = np.zeros((feat_len, feat_len))\n",
        "  # print(len(vectors[:,0]))\n",
        "  for i in range(len(vectors[:,0])):\n",
        "    w += np.matmul(vectors[i].reshape(feat_len,1), vectors[i].reshape(1,feat_len)) - np.identity(feat_len)\n",
        "  \n",
        "  return w\n"
      ],
      "execution_count": null,
      "outputs": []
    },
    {
      "cell_type": "code",
      "metadata": {
        "id": "ZHdlf_-4iMXW"
      },
      "source": [
        "def autoAssOut(try_count, vectors, percent, w, samples, feat_num):\n",
        "  # print(w)\n",
        "  total_acc = []\n",
        "  for i in range(try_count):\n",
        "    nvec = noise_vec(vectors, percent, feat_num)\n",
        "    correct_num = 0\n",
        "    for j in range(samples):\n",
        "      #print(\"multiplication: {}\".format(np.matmul(nvec[j,:], w)))\n",
        "      if np.array_equal(np.sign(np.matmul(nvec[j,:], w)).T, vectors[j]):\n",
        "        correct_num += 1\n",
        "    total_acc.append(correct_num/len(vectors)*100)\n",
        "  total_acc = np.asarray(total_acc)\n",
        "  mean = np.mean(total_acc)\n",
        "  st_div = np.std(total_acc)\n",
        "  return mean, st_div"
      ],
      "execution_count": null,
      "outputs": []
    },
    {
      "cell_type": "code",
      "metadata": {
        "colab": {
          "base_uri": "https://localhost:8080/",
          "height": 282
        },
        "id": "FtL39ZTSpHBS",
        "outputId": "fcb6827b-c0fb-4b7b-a72b-016625b99bb9"
      },
      "source": [
        "feature_nums = 100\n",
        "vec_nums = range(10,110,10)\n",
        "#vec_nums = [1]\n",
        "error_percentages = [0,0.2,0.4]\n",
        "prob = 0.5\n",
        "try_count = 100\n",
        "\n",
        "e_means = []\n",
        "e_stdivs = []\n",
        "for e in error_percentages:\n",
        "  n_means = []\n",
        "  n_stdivs = []\n",
        "  for n in vec_nums:\n",
        "    # print(\"vec len = {}\".format(n))\n",
        "    vectors = rand_vec(n, prob, feature_nums)\n",
        "    w = autoAssWork(feature_nums, vectors)\n",
        "    # print(\"vectors: {}\".format(vectors))\n",
        "    # print(\"w: \\n{}\".format(w))\n",
        "    mean, stdiv = autoAssOut(try_count, vectors, e, w, n, feature_nums)\n",
        "    n_means.append(mean)\n",
        "    n_stdivs.append(stdiv)\n",
        "  e_means.append(n_means)\n",
        "  e_stdivs.append(n_stdivs)\n",
        "# print(\"accuracies: {}\".format(e_means))\n",
        "plt.plot(np.arange(10,110,10), e_means[0])\n",
        "plt.plot(np.arange(10,110,10), e_means[1])\n",
        "plt.plot(np.arange(10,110,10), e_means[2])"
      ],
      "execution_count": null,
      "outputs": [
        {
          "output_type": "execute_result",
          "data": {
            "text/plain": [
              "[<matplotlib.lines.Line2D at 0x7f4a27001090>]"
            ]
          },
          "metadata": {
            "tags": []
          },
          "execution_count": 132
        },
        {
          "output_type": "display_data",
          "data": {
            "image/png": "[encoded data removed]",
            "text/plain": [
              "<Figure size 432x288 with 1 Axes>"
            ]
          },
          "metadata": {
            "tags": [],
            "needs_background": "light"
          }
        }
      ]
    },
    {
      "cell_type": "markdown",
      "metadata": {
        "id": "upn2AEzpzyM3"
      },
      "source": [
        "# Question 3. Hopfield Network"
      ]
    },
    {
      "cell_type": "markdown",
      "metadata": {
        "id": "dYRhZCsZz46o"
      },
      "source": [
        "## Part 1. Data Initialization"
      ]
    },
    {
      "cell_type": "code",
      "metadata": {
        "id": "PG2FjJJ_z-Qf"
      },
      "source": [
        "zer0 = np.array([\n",
        "                 +1, +1, +1, +1, +1, +1, +1, +1,\n",
        "                 +1, +1, +1, +1, +1, +1, +1, +1,\n",
        "                 +1, +1, -1, -1, -1, -1, +1, +1,\n",
        "                 +1, +1, -1, -1, -1, -1, +1, +1,\n",
        "                 +1, +1, -1, -1, -1, -1, +1, +1,\n",
        "                 +1, +1, -1, -1, -1, -1, +1, +1,\n",
        "                 +1, +1, +1, +1, +1, +1, +1, +1,\n",
        "                 +1, +1, +1, +1, +1, +1, +1, +1\n",
        "])\n",
        "\n",
        "on1 = np.array([\n",
        "                -1, -1, +1, +1, +1, -1, -1, -1,\n",
        "                -1, -1, +1, +1, +1, -1, -1, -1,\n",
        "                -1, -1, -1, +1, +1, -1, -1, -1,\n",
        "                -1, -1, -1, +1, +1, -1, -1, -1,\n",
        "                -1, -1, -1, +1, +1, -1, -1, -1,\n",
        "                -1, -1, -1, +1, +1, -1, -1, -1,\n",
        "                -1, -1, -1, +1, +1, -1, -1, -1,\n",
        "                -1, -1, -1, +1, +1, -1, -1, -1\n",
        "])\n",
        "\n",
        "zer0 = zer0.reshape((-1, 1))\n",
        "on1 = on1.reshape((-1,1))"
      ],
      "execution_count": null,
      "outputs": []
    },
    {
      "cell_type": "code",
      "metadata": {
        "colab": {
          "base_uri": "https://localhost:8080/",
          "height": 281
        },
        "id": "6MCpZ-qy01fD",
        "outputId": "d6e0b8bb-5ba7-403b-e1b3-7b03a4a1a97d"
      },
      "source": [
        "plt.imshow(zer0.reshape(8,8))"
      ],
      "execution_count": null,
      "outputs": [
        {
          "output_type": "execute_result",
          "data": {
            "text/plain": [
              "<matplotlib.image.AxesImage at 0x7f3bbe803bd0>"
            ]
          },
          "metadata": {
            "tags": []
          },
          "execution_count": 71
        },
        {
          "output_type": "display_data",
          "data": {
            "image/png": "[encoded data removed]",
            "text/plain": [
              "<Figure size 432x288 with 1 Axes>"
            ]
          },
          "metadata": {
            "tags": [],
            "needs_background": "light"
          }
        }
      ]
    },
    {
      "cell_type": "code",
      "metadata": {
        "colab": {
          "base_uri": "https://localhost:8080/",
          "height": 281
        },
        "id": "q04xpczx1HJV",
        "outputId": "0cfd3154-c884-4c45-96e1-cac694e68639"
      },
      "source": [
        "plt.imshow(on1.reshape(8,8))"
      ],
      "execution_count": null,
      "outputs": [
        {
          "output_type": "execute_result",
          "data": {
            "text/plain": [
              "<matplotlib.image.AxesImage at 0x7f3bbe5d2e10>"
            ]
          },
          "metadata": {
            "tags": []
          },
          "execution_count": 73
        },
        {
          "output_type": "display_data",
          "data": {
            "image/png": "[encoded data removed]",
            "text/plain": [
              "<Figure size 432x288 with 1 Axes>"
            ]
          },
          "metadata": {
            "tags": [],
            "needs_background": "light"
          }
        }
      ]
    },
    {
      "cell_type": "markdown",
      "metadata": {
        "id": "xWlLaDvQ1LEO"
      },
      "source": [
        "## Part 2. Train & Test"
      ]
    },
    {
      "cell_type": "code",
      "metadata": {
        "id": "z6JmAnx01Psx"
      },
      "source": [
        "vectors = np.array([zer0, on1])\n",
        "w = autoAssWork(64, vectors)"
      ],
      "execution_count": null,
      "outputs": []
    },
    {
      "cell_type": "code",
      "metadata": {
        "id": "bVGuHhzS8DTR"
      },
      "source": [
        "def hopSign(number, thresh):\n",
        "  if (number>thresh):\n",
        "    return 1\n",
        "  elif (number==thresh):\n",
        "    return number\n",
        "  else:\n",
        "    return -1"
      ],
      "execution_count": null,
      "outputs": []
    },
    {
      "cell_type": "code",
      "metadata": {
        "id": "B1vJmOyu158b"
      },
      "source": [
        "def tune_test(vector, w):\n",
        "  y = vector\n",
        "  for i in range(len(y)):\n",
        "    y_in = vector[i] + np.matmul(y, w[:,i])\n",
        "    y[i] = hopSign(y_in,0)\n",
        "\n",
        "  return y"
      ],
      "execution_count": null,
      "outputs": []
    },
    {
      "cell_type": "code",
      "metadata": {
        "colab": {
          "base_uri": "https://localhost:8080/",
          "height": 330
        },
        "id": "21J8GJfDCbyF",
        "outputId": "6a2d991d-be1a-488d-e70c-d06d7b855028"
      },
      "source": [
        "noise_one = noise_vec(on1.reshape(1,-1),0.3,64)\n",
        "print(noise_one)\n",
        "plt.imshow(noise_one.reshape(8,8))"
      ],
      "execution_count": null,
      "outputs": [
        {
          "output_type": "stream",
          "text": [
            "[[-1 -1 -1  1  1  1  1 -1 -1 -1  1 -1  1  1 -1 -1 -1 -1  1 -1  1 -1  1  1\n",
            "   1 -1 -1 -1  1 -1 -1 -1  1  1 -1  1  1  1 -1  1 -1 -1 -1  1  1 -1 -1 -1\n",
            "  -1 -1 -1 -1  1 -1 -1 -1 -1 -1 -1  1 -1  1 -1  1]]\n"
          ],
          "name": "stdout"
        },
        {
          "output_type": "execute_result",
          "data": {
            "text/plain": [
              "<matplotlib.image.AxesImage at 0x7f3bbe59bb50>"
            ]
          },
          "metadata": {
            "tags": []
          },
          "execution_count": 104
        },
        {
          "output_type": "display_data",
          "data": {
            "image/png": "[encoded data removed]",
            "text/plain": [
              "<Figure size 432x288 with 1 Axes>"
            ]
          },
          "metadata": {
            "tags": [],
            "needs_background": "light"
          }
        }
      ]
    },
    {
      "cell_type": "code",
      "metadata": {
        "colab": {
          "base_uri": "https://localhost:8080/",
          "height": 281
        },
        "id": "UjX4-HLtC3gD",
        "outputId": "2927fd73-9a7a-48cf-e3e7-b9022b664c7e"
      },
      "source": [
        "test_one = tune_test(noise_one[0], w)\n",
        "plt.imshow(test_one.reshape(8,8))"
      ],
      "execution_count": null,
      "outputs": [
        {
          "output_type": "execute_result",
          "data": {
            "text/plain": [
              "<matplotlib.image.AxesImage at 0x7f3bc2f2c550>"
            ]
          },
          "metadata": {
            "tags": []
          },
          "execution_count": 107
        },
        {
          "output_type": "display_data",
          "data": {
            "image/png": "[encoded data removed]",
            "text/plain": [
              "<Figure size 432x288 with 1 Axes>"
            ]
          },
          "metadata": {
            "tags": [],
            "needs_background": "light"
          }
        }
      ]
    },
    {
      "cell_type": "code",
      "metadata": {
        "colab": {
          "base_uri": "https://localhost:8080/",
          "height": 330
        },
        "id": "YxdkSZdiFRd7",
        "outputId": "a7b34cf0-cf34-4865-efe5-b71ed7945812"
      },
      "source": [
        "noise_zero = noise_vec(zer0.reshape(1,-1),0.3,64)\n",
        "print(noise_zero)\n",
        "plt.imshow(noise_zero.reshape(8,8))"
      ],
      "execution_count": null,
      "outputs": [
        {
          "output_type": "stream",
          "text": [
            "[[ 1  1  1 -1  1  1  1  1 -1 -1 -1  1  1 -1  1 -1  1 -1 -1 -1 -1  1  1  1\n",
            "   1 -1 -1  1  1 -1  1  1  1 -1 -1  1 -1 -1 -1  1  1  1 -1 -1 -1  1  1  1\n",
            "   1  1  1  1 -1  1 -1  1 -1  1  1  1  1 -1  1  1]]\n"
          ],
          "name": "stdout"
        },
        {
          "output_type": "execute_result",
          "data": {
            "text/plain": [
              "<matplotlib.image.AxesImage at 0x7f3bbe1cc310>"
            ]
          },
          "metadata": {
            "tags": []
          },
          "execution_count": 108
        },
        {
          "output_type": "display_data",
          "data": {
            "image/png": "[encoded data removed]",
            "text/plain": [
              "<Figure size 432x288 with 1 Axes>"
            ]
          },
          "metadata": {
            "tags": [],
            "needs_background": "light"
          }
        }
      ]
    },
    {
      "cell_type": "code",
      "metadata": {
        "colab": {
          "base_uri": "https://localhost:8080/",
          "height": 281
        },
        "id": "n7X9omirFX4s",
        "outputId": "faee076c-7421-4b97-e319-3261eb0be059"
      },
      "source": [
        "test_zero = tune_test(noise_zero[0], w)\n",
        "plt.imshow(test_zero.reshape(8,8))"
      ],
      "execution_count": null,
      "outputs": [
        {
          "output_type": "execute_result",
          "data": {
            "text/plain": [
              "<matplotlib.image.AxesImage at 0x7f3bbe12c390>"
            ]
          },
          "metadata": {
            "tags": []
          },
          "execution_count": 109
        },
        {
          "output_type": "display_data",
          "data": {
            "image/png": "[encoded data removed]",
            "text/plain": [
              "<Figure size 432x288 with 1 Axes>"
            ]
          },
          "metadata": {
            "tags": [],
            "needs_background": "light"
          }
        }
      ]
    },
    {
      "cell_type": "markdown",
      "metadata": {
        "id": "_LaTt-DLN8T4"
      },
      "source": [
        "## Part 3. Hamming Distance"
      ]
    },
    {
      "cell_type": "code",
      "metadata": {
        "colab": {
          "base_uri": "https://localhost:8080/"
        },
        "id": "P0I5S_VTMgkh",
        "outputId": "7eca79b6-f321-46f0-9e96-c2e090dad073"
      },
      "source": [
        "diff = sum([1 for i in range(len(zer0)) if zer0[i]!=on1[i]])\n",
        "print(diff)"
      ],
      "execution_count": 111,
      "outputs": [
        {
          "output_type": "stream",
          "text": [
            "46\n"
          ],
          "name": "stdout"
        }
      ]
    }
  ]
}