{
  "nbformat": 4,
  "nbformat_minor": 0,
  "metadata": {
    "colab": {
      "name": "PROJECT#1 _ Borazjani - 810196662 _ Salemi - 810196479.ipynb",
      "provenance": [],
      "collapsed_sections": [],
      "toc_visible": true
    },
    "kernelspec": {
      "name": "python3",
      "display_name": "Python 3"
    },
    "language_info": {
      "name": "python"
    },
    "accelerator": "GPU"
  },
  "cells": [
    {
      "cell_type": "markdown",
      "metadata": {
        "id": "2d4ce-Rf8mM6"
      },
      "source": [
        "# Mini-project #1\n",
        "## Neural Networks and Deep Learning\n",
        "\n",
        "Kasra Borazjani - 810196662 \\\\\n",
        "Hamid Salemi - 810196479"
      ]
    },
    {
      "cell_type": "markdown",
      "metadata": {
        "id": "02hxtVGg9Gex"
      },
      "source": [
        "## Question 2 - CNN\n"
      ]
    },
    {
      "cell_type": "code",
      "metadata": {
        "id": "gW80sr4f3rYc"
      },
      "source": [
        "import torch\n",
        "import torchvision\n",
        "import torchvision.transforms as transforms"
      ],
      "execution_count": null,
      "outputs": []
    },
    {
      "cell_type": "code",
      "metadata": {
        "colab": {
          "base_uri": "https://localhost:8080/"
        },
        "id": "4VY7O75LBoKG",
        "outputId": "40dd41f8-863f-4f3a-e629-04de00e6fa01"
      },
      "source": [
        "transform = transforms.Compose([transforms.ToTensor(),transforms.Normalize((0.5, 0.5, 0.5), (0.5, 0.5, 0.5))])\n",
        "\n",
        "batch_size = 8\n",
        "\n",
        "trainset = torchvision.datasets.CIFAR10(root='./data', train=True, download=True, transform=transform)\n",
        "trainloader = torch.utils.data.DataLoader(trainset, batch_size=batch_size, shuffle=True, num_workers=2)\n",
        "\n",
        "testset = torchvision.datasets.CIFAR10(root='./data', train=False, download=True, transform=transform)\n",
        "testloader = torch.utils.data.DataLoader(testset, batch_size=batch_size, shuffle=False, num_workers=2)\n",
        "classes = ('plane', 'car', 'bird', 'cat', 'deer', 'dog', 'frog', 'horse', 'ship', 'truck')"
      ],
      "execution_count": null,
      "outputs": [
        {
          "output_type": "stream",
          "text": [
            "Files already downloaded and verified\n",
            "Files already downloaded and verified\n"
          ],
          "name": "stdout"
        }
      ]
    },
    {
      "cell_type": "code",
      "metadata": {
        "id": "tcov6t0LDBr8"
      },
      "source": [
        "import torch.nn as nn\n",
        "import torch.nn.functional as f\n",
        "\n",
        "class network(nn.Module):\n",
        "  def __init__(self):\n",
        "    super().__init__()\n",
        "    self.conv1 = nn.Conv2d(3, 6, 3)\n",
        "    self.conv2 = nn.Conv2d(6, 12, 3)\n",
        "    self.conv3 = nn.Conv2d(12, 36, 3)\n",
        "    self.pool = nn.MaxPool2d(2,2)\n",
        "    self.fc1 = nn.Linear(36*2*2, 150)\n",
        "    self.fc2 = nn.Linear(150, 10)\n",
        "\n",
        "  def forward(self, input):\n",
        "    # print(\"input shape is: {}\".format(input.shape))\n",
        "    input = self.pool(f.relu(self.conv1(input)))\n",
        "    #print(\"layer one passed\")\n",
        "    #print(\"input shape is: {}\".format(input.shape))\n",
        "    input = self.pool(f.relu(self.conv2(input)))\n",
        "    #print(\"layer two passed\")\n",
        "    #print(\"input shape is: {}\".format(input.shape))\n",
        "    input = self.pool(f.relu(self.conv3(input)))\n",
        "    #print(\"layer three passed \\n input shape is: {}\".format(input.shape))\n",
        "    input = torch.flatten(input, 1)\n",
        "    input = f.relu(self.fc1(input))\n",
        "    input = self.fc2(input)\n",
        "\n",
        "    return input\n",
        "    \n",
        "net = network()\n",
        "\n",
        "import torch.optim as optim\n",
        "\n",
        "crit = nn.CrossEntropyLoss()\n",
        "optimizer = optim.SGD(net.parameters(), lr=0.001, momentum=0.9)"
      ],
      "execution_count": null,
      "outputs": []
    },
    {
      "cell_type": "code",
      "metadata": {
        "colab": {
          "base_uri": "https://localhost:8080/"
        },
        "id": "LxpQAFwuUh-R",
        "outputId": "7227dd60-6023-474e-89a0-b9ced8274734"
      },
      "source": [
        "losses = []\n",
        "tr_accuracy = []\n",
        "ts_accuracy = []\n",
        "for epoch in range(10):\n",
        "\n",
        "  tr_correct = 0\n",
        "  tr_total = 0\n",
        "  for i, tr_data in enumerate(trainloader, 0):\n",
        "    tr_inputs, tr_labels = tr_data\n",
        "    optimizer.zero_grad()\n",
        "    tr_outputs = net(tr_inputs)\n",
        "    _, tr_predict = torch.max(tr_outputs,1)\n",
        "    tr_total += tr_labels.size(0)\n",
        "    tr_correct += (tr_predict == tr_labels).sum().item()\n",
        "    loss = crit(tr_outputs, tr_labels)\n",
        "    loss.backward()\n",
        "    optimizer.step()\n",
        "\n",
        "  ts_correct = 0\n",
        "  ts_total = 0\n",
        "  with torch.no_grad():\n",
        "    for ts_data in testloader:\n",
        "      ts_images, ts_labels = ts_data\n",
        "      ts_outputs = net(ts_images)\n",
        "      _, ts_predicted = torch.max(ts_outputs.data,1)\n",
        "      ts_total += ts_labels.size(0)\n",
        "      ts_correct += (ts_predicted == ts_labels).sum().item()\n",
        "  \n",
        "  tr_acc = tr_correct / tr_total * 100\n",
        "  ts_acc = ts_correct / ts_total * 100\n",
        "  tr_accuracy.append(tr_acc)\n",
        "  ts_accuracy.append(ts_acc)\n",
        "  \n",
        "  print(\"epoch {}, train accuracy = {}, test accuracy = {}\".format(epoch, tr_acc, ts_acc))\n",
        "  \n",
        "\n",
        "print(\"finished training\")\n"
      ],
      "execution_count": null,
      "outputs": [
        {
          "output_type": "stream",
          "text": [
            "  File \"/usr/local/lib/python3.7/dist-packages/torch/utils/data/dataloader.py\", line 1324, in __del__\n",
            "Exception ignored in: <function _MultiProcessingDataLoaderIter.__del__ at 0x7f3e37a427a0>\n",
            "Traceback (most recent call last):\n",
            "    self._shutdown_workers()\n",
            "  File \"/usr/local/lib/python3.7/dist-packages/torch/utils/data/dataloader.py\", line 1316, in _shutdown_workers\n",
            "Exception ignored in: <function _MultiProcessingDataLoaderIter.__del__ at 0x7f3e37a427a0>\n",
            "    if w.is_alive():\n",
            "Traceback (most recent call last):\n",
            "  File \"/usr/lib/python3.7/multiprocessing/process.py\", line 151, in is_alive\n",
            "    assert self._parent_pid == os.getpid(), 'can only test a child process'\n",
            "AssertionError: can only test a child process\n",
            "  File \"/usr/local/lib/python3.7/dist-packages/torch/utils/data/dataloader.py\", line 1324, in __del__\n",
            "    self._shutdown_workers()\n",
            "  File \"/usr/local/lib/python3.7/dist-packages/torch/utils/data/dataloader.py\", line 1316, in _shutdown_workers\n",
            "    if w.is_alive():\n",
            "  File \"/usr/lib/python3.7/multiprocessing/process.py\", line 151, in is_alive\n",
            "    assert self._parent_pid == os.getpid(), 'can only test a child process'\n",
            "AssertionError: can only test a child process\n"
          ],
          "name": "stderr"
        },
        {
          "output_type": "stream",
          "text": [
            "epoch 0, train accuracy = 68.094, test accuracy = 62.2\n",
            "epoch 1, train accuracy = 69.104, test accuracy = 63.74999999999999\n",
            "epoch 2, train accuracy = 69.67999999999999, test accuracy = 63.18\n",
            "epoch 3, train accuracy = 70.00999999999999, test accuracy = 64.09\n",
            "epoch 4, train accuracy = 70.584, test accuracy = 64.2\n",
            "epoch 5, train accuracy = 71.212, test accuracy = 64.3\n",
            "epoch 6, train accuracy = 71.628, test accuracy = 64.47\n",
            "epoch 7, train accuracy = 72.11, test accuracy = 64.57000000000001\n",
            "epoch 8, train accuracy = 72.414, test accuracy = 63.470000000000006\n",
            "epoch 9, train accuracy = 73.048, test accuracy = 64.3\n",
            "finished training\n"
          ],
          "name": "stdout"
        }
      ]
    },
    {
      "cell_type": "code",
      "metadata": {
        "colab": {
          "base_uri": "https://localhost:8080/",
          "height": 312
        },
        "id": "pH5VcWRNwgju",
        "outputId": "3366e6a4-777e-4d75-f823-01bd2478c8ed"
      },
      "source": [
        "import matplotlib.pyplot as plt\n",
        "%matplotlib inline\n",
        "\n",
        "x = range(1,11)\n",
        "plt.plot(x, tr_accuracy, label='train accuracy', color='green')\n",
        "plt.plot(x, ts_accuracy, label='test accuracy', color = 'blue')\n",
        "plt.legend()\n",
        "plt.title('train vs test accuracy')\n",
        "plt.xlabel('accuracy')\n",
        "plt.ylabel('epochs')"
      ],
      "execution_count": null,
      "outputs": [
        {
          "output_type": "execute_result",
          "data": {
            "text/plain": [
              "Text(0, 0.5, 'epochs')"
            ]
          },
          "metadata": {
            "tags": []
          },
          "execution_count": 37
        },
        {
          "output_type": "display_data",
          "data": {
            "image/png": "[encoded data removed]",
            "text/plain": [
              "<Figure size 432x288 with 1 Axes>"
            ]
          },
          "metadata": {
            "tags": [],
            "needs_background": "light"
          }
        }
      ]
    },
    {
      "cell_type": "code",
      "metadata": {
        "id": "32e6Je6571GU"
      },
      "source": [
        "class network2(nn.Module):\n",
        "  def __init__(self):\n",
        "    super().__init__()\n",
        "    self.conv1 = nn.Conv2d(3, 6, 3)\n",
        "    self.conv2 = nn.Conv2d(6, 12, 3)\n",
        "    self.conv3 = nn.Conv2d(12, 36, 3)\n",
        "    self.pool = nn.MaxPool2d(2,2)\n",
        "    self.fc1 = nn.Linear(36*2*2, 150)\n",
        "    self.fc2 = nn.Linear(150, 10)\n",
        "\n",
        "  def forward(self, input):\n",
        "    # print(\"input shape is: {}\".format(input.shape))\n",
        "    input = self.pool(f.tanh(self.conv1(input)))\n",
        "    #print(\"layer one passed\")\n",
        "    #print(\"input shape is: {}\".format(input.shape))\n",
        "    input = self.pool(f.tanh(self.conv2(input)))\n",
        "    #print(\"layer two passed\")\n",
        "    #print(\"input shape is: {}\".format(input.shape))\n",
        "    input = self.pool(f.tanh(self.conv3(input)))\n",
        "    #print(\"layer three passed \\n input shape is: {}\".format(input.shape))\n",
        "    input = torch.flatten(input, 1)\n",
        "    input = f.tanh(self.fc1(input))\n",
        "    input = self.fc2(input)\n",
        "\n",
        "    return input\n",
        "\n",
        "\n",
        "class network3(nn.Module):\n",
        "  def __init__(self):\n",
        "    super().__init__()\n",
        "    self.conv1 = nn.Conv2d(3, 6, 3)\n",
        "    self.conv2 = nn.Conv2d(6, 12, 3)\n",
        "    self.conv3 = nn.Conv2d(12, 36, 3)\n",
        "    self.pool = nn.MaxPool2d(2,2)\n",
        "    self.fc1 = nn.Linear(36*2*2, 150)\n",
        "    self.fc2 = nn.Linear(150, 10)\n",
        "\n",
        "  def forward(self, input):\n",
        "    # print(\"input shape is: {}\".format(input.shape))\n",
        "    input = self.pool(f.sigmoid(self.conv1(input)))\n",
        "    #print(\"layer one passed\")\n",
        "    #print(\"input shape is: {}\".format(input.shape))\n",
        "    input = self.pool(f.sigmoid(self.conv2(input)))\n",
        "    #print(\"layer two passed\")\n",
        "    #print(\"input shape is: {}\".format(input.shape))\n",
        "    input = self.pool(f.sigmoid(self.conv3(input)))\n",
        "    #print(\"layer three passed \\n input shape is: {}\".format(input.shape))\n",
        "    input = torch.flatten(input, 1)\n",
        "    input = f.sigmoid(self.fc1(input))\n",
        "    input = self.fc2(input)\n",
        "\n",
        "    return input\n",
        "    \n"
      ],
      "execution_count": null,
      "outputs": []
    },
    {
      "cell_type": "code",
      "metadata": {
        "id": "_HmMiu9V9F-T"
      },
      "source": [
        "def train_net(trainloader, testloader, net, crit, optimizer):\n",
        "  losses = []\n",
        "  tr_accuracy = []\n",
        "  ts_accuracy = []\n",
        "  for epoch in range(10):\n",
        "\n",
        "    tr_correct = 0\n",
        "    tr_total = 0\n",
        "    for i, tr_data in enumerate(trainloader, 0):\n",
        "      tr_inputs, tr_labels = tr_data\n",
        "      optimizer.zero_grad()\n",
        "      tr_outputs = net(tr_inputs)\n",
        "      _, tr_predict = torch.max(tr_outputs,1)\n",
        "      tr_total += tr_labels.size(0)\n",
        "      tr_correct += (tr_predict == tr_labels).sum().item()\n",
        "      loss = crit(tr_outputs, tr_labels)\n",
        "      loss.backward()\n",
        "      optimizer.step()\n",
        "\n",
        "    ts_correct = 0\n",
        "    ts_total = 0\n",
        "    with torch.no_grad():\n",
        "      for ts_data in testloader:\n",
        "        ts_images, ts_labels = ts_data\n",
        "        ts_outputs = net(ts_images)\n",
        "        _, ts_predicted = torch.max(ts_outputs.data,1)\n",
        "        ts_total += ts_labels.size(0)\n",
        "        ts_correct += (ts_predicted == ts_labels).sum().item()\n",
        "    \n",
        "    tr_acc = tr_correct / tr_total * 100\n",
        "    ts_acc = ts_correct / ts_total * 100\n",
        "    tr_accuracy.append(tr_acc)\n",
        "    ts_accuracy.append(ts_acc)\n",
        "    \n",
        "    print(\"epoch {}, train accuracy = {}, test accuracy = {}\".format(epoch, tr_acc, ts_acc))\n",
        "    \n",
        "\n",
        "  print(\"finished training\")\n",
        "  return tr_accuracy, ts_accuracy\n"
      ],
      "execution_count": null,
      "outputs": []
    },
    {
      "cell_type": "code",
      "metadata": {
        "colab": {
          "base_uri": "https://localhost:8080/",
          "height": 754
        },
        "id": "IZLWSnWNFndR",
        "outputId": "67ffe1c7-613f-417b-8192-f669531c8399"
      },
      "source": [
        "net2 = network2()\n",
        "crit2 = nn.CrossEntropyLoss()\n",
        "optimizer2 = optim.SGD(net2.parameters(), lr=0.001, momentum=0.9)\n",
        "tr2_accuracy, ts2_accuracy = train_net(trainloader, testloader, net2, crit2, optimizer2)\n",
        "\n",
        "net3 = network3()\n",
        "crit3 = nn.CrossEntropyLoss()\n",
        "optimizer3 = optim.SGD(net3.parameters(), lr=0.001, momentum=0.9)\n",
        "tr3_accuracy, ts3_accuracy = train_net(trainloader, testloader, net3, crit3, optimizer3)\n",
        "\n",
        "\n",
        "plt.plot(x, ts_accuracy, label='ReLU', color='green')\n",
        "plt.plot(x, ts2_accuracy, label='tanh', color = 'blue')\n",
        "plt.plot(x, ts3_accuracy, label='sigmoid', color = 'red')\n",
        "plt.legend()\n",
        "plt.title('Accuracy evolution in 10 epochs for differnt activation functions')\n",
        "plt.xlabel('accuracy')\n",
        "plt.ylabel('epochs')"
      ],
      "execution_count": null,
      "outputs": [
        {
          "output_type": "stream",
          "text": [
            "/usr/local/lib/python3.7/dist-packages/torch/nn/functional.py:1698: UserWarning: nn.functional.tanh is deprecated. Use torch.tanh instead.\n",
            "  warnings.warn(\"nn.functional.tanh is deprecated. Use torch.tanh instead.\")\n"
          ],
          "name": "stderr"
        },
        {
          "output_type": "stream",
          "text": [
            "epoch 0, train accuracy = 33.884, test accuracy = 43.93\n",
            "epoch 1, train accuracy = 46.754, test accuracy = 48.980000000000004\n",
            "epoch 2, train accuracy = 52.144, test accuracy = 51.970000000000006\n",
            "epoch 3, train accuracy = 55.291999999999994, test accuracy = 54.1\n",
            "epoch 4, train accuracy = 57.92, test accuracy = 57.379999999999995\n",
            "epoch 5, train accuracy = 59.836, test accuracy = 59.45\n",
            "epoch 6, train accuracy = 61.004000000000005, test accuracy = 58.879999999999995\n",
            "epoch 7, train accuracy = 62.258, test accuracy = 60.73\n",
            "epoch 8, train accuracy = 63.186, test accuracy = 61.79\n",
            "epoch 9, train accuracy = 64.2, test accuracy = 60.96\n",
            "finished training\n"
          ],
          "name": "stdout"
        },
        {
          "output_type": "stream",
          "text": [
            "/usr/local/lib/python3.7/dist-packages/torch/nn/functional.py:1709: UserWarning: nn.functional.sigmoid is deprecated. Use torch.sigmoid instead.\n",
            "  warnings.warn(\"nn.functional.sigmoid is deprecated. Use torch.sigmoid instead.\")\n"
          ],
          "name": "stderr"
        },
        {
          "output_type": "stream",
          "text": [
            "epoch 0, train accuracy = 9.772, test accuracy = 10.0\n",
            "epoch 1, train accuracy = 10.13, test accuracy = 10.0\n",
            "epoch 2, train accuracy = 9.852, test accuracy = 10.0\n",
            "epoch 3, train accuracy = 9.862, test accuracy = 10.0\n",
            "epoch 4, train accuracy = 9.758, test accuracy = 10.0\n",
            "epoch 5, train accuracy = 9.948, test accuracy = 10.0\n",
            "epoch 6, train accuracy = 9.838, test accuracy = 10.0\n",
            "epoch 7, train accuracy = 10.018, test accuracy = 10.0\n",
            "epoch 8, train accuracy = 9.98, test accuracy = 10.0\n",
            "epoch 9, train accuracy = 10.054, test accuracy = 10.0\n",
            "finished training\n"
          ],
          "name": "stdout"
        },
        {
          "output_type": "execute_result",
          "data": {
            "text/plain": [
              "Text(0, 0.5, 'epochs')"
            ]
          },
          "metadata": {
            "tags": []
          },
          "execution_count": 49
        },
        {
          "output_type": "display_data",
          "data": {
            "image/png": "[encoded data removed]",
            "text/plain": [
              "<Figure size 432x288 with 1 Axes>"
            ]
          },
          "metadata": {
            "tags": [],
            "needs_background": "light"
          }
        }
      ]
    },
    {
      "cell_type": "code",
      "metadata": {
        "colab": {
          "base_uri": "https://localhost:8080/",
          "height": 499
        },
        "id": "yV3wMssYMvLV",
        "outputId": "fd0e31f7-98c8-459e-c06a-68924b21c478"
      },
      "source": [
        "net4 = network()\n",
        "crit4 = nn.CrossEntropyLoss()\n",
        "optimizer4 = optim.Adam(net4.parameters(), lr=0.001)\n",
        "tr4_accuracy, ts4_accuracy = train_net(trainloader, testloader, net4, crit4, optimizer4)\n",
        "\n",
        "\n",
        "\n",
        "plt.plot(x, ts_accuracy, label='SGD', color='green')\n",
        "plt.plot(x, ts4_accuracy, label='Adam', color = 'blue')\n",
        "plt.legend()\n",
        "plt.title('Accuracy evolution in 10 epochs for differnt optimizers')\n",
        "plt.xlabel('accuracy')\n",
        "plt.ylabel('epochs')"
      ],
      "execution_count": null,
      "outputs": [
        {
          "output_type": "stream",
          "text": [
            "epoch 0, train accuracy = 41.954, test accuracy = 50.73\n",
            "epoch 1, train accuracy = 53.862, test accuracy = 55.63\n",
            "epoch 2, train accuracy = 57.542, test accuracy = 56.31\n",
            "epoch 3, train accuracy = 59.94199999999999, test accuracy = 59.24\n",
            "epoch 4, train accuracy = 61.756, test accuracy = 59.86\n",
            "epoch 5, train accuracy = 63.017999999999994, test accuracy = 61.67\n",
            "epoch 6, train accuracy = 64.242, test accuracy = 61.339999999999996\n",
            "epoch 7, train accuracy = 65.18, test accuracy = 63.160000000000004\n",
            "epoch 8, train accuracy = 66.314, test accuracy = 62.53999999999999\n",
            "epoch 9, train accuracy = 66.804, test accuracy = 62.28\n",
            "finished training\n"
          ],
          "name": "stdout"
        },
        {
          "output_type": "execute_result",
          "data": {
            "text/plain": [
              "Text(0, 0.5, 'epochs')"
            ]
          },
          "metadata": {
            "tags": []
          },
          "execution_count": 52
        },
        {
          "output_type": "display_data",
          "data": {
            "image/png": "[encoded data removed]",
            "text/plain": [
              "<Figure size 432x288 with 1 Axes>"
            ]
          },
          "metadata": {
            "tags": [],
            "needs_background": "light"
          }
        }
      ]
    },
    {
      "cell_type": "code",
      "metadata": {
        "colab": {
          "base_uri": "https://localhost:8080/"
        },
        "id": "HBFamP1El1w_",
        "outputId": "e3e1941e-24a0-4326-a2d0-25c38872cab8"
      },
      "source": [
        "import pandas as pd\n",
        "import random\n",
        "import numpy as np\n",
        "\n",
        "\n",
        "class_idx = {}\n",
        "for i in range(len(trainset.targets)):\n",
        "  if trainset.targets[i] not in class_idx.keys():\n",
        "    class_idx[trainset.targets[i]] = []\n",
        "  class_idx[trainset.targets[i]].append(trainset.data[i])\n",
        "\n",
        "new_trainset= pd.DataFrame()\n",
        "i = 0\n",
        "j = 0\n",
        "for key in class_idx.keys():\n",
        "  new_data = random.sample(class_idx[key], 600)\n",
        "  for data in new_data:\n",
        "    temp_pd = pd.DataFrame([[data, key]], columns=[\"data\", \"target\"])\n",
        "    new_trainset= pd.concat([new_trainset, temp_pd])\n",
        "    j += 1\n",
        "  i += 1\n",
        "\n",
        "print(new_trainset)\n"
      ],
      "execution_count": null,
      "outputs": [
        {
          "output_type": "stream",
          "text": [
            "                                                 data  target\n",
            "0   [[[228, 204, 147], [214, 187, 137], [183, 143,...       6\n",
            "0   [[[164, 127, 107], [156, 106, 86], [160, 106, ...       6\n",
            "0   [[[73, 81, 61], [81, 91, 68], [81, 94, 63], [4...       6\n",
            "0   [[[46, 50, 28], [46, 49, 28], [46, 50, 28], [4...       6\n",
            "0   [[[163, 148, 123], [158, 142, 114], [154, 137,...       6\n",
            "..                                                ...     ...\n",
            "0   [[[28, 34, 22], [41, 47, 33], [14, 20, 7], [18...       0\n",
            "0   [[[126, 190, 235], [118, 183, 227], [107, 179,...       0\n",
            "0   [[[120, 120, 100], [120, 121, 100], [120, 121,...       0\n",
            "0   [[[149, 152, 161], [147, 150, 159], [147, 150,...       0\n",
            "0   [[[209, 224, 239], [209, 225, 240], [209, 225,...       0\n",
            "\n",
            "[6000 rows x 2 columns]\n"
          ],
          "name": "stdout"
        }
      ]
    },
    {
      "cell_type": "code",
      "metadata": {
        "colab": {
          "base_uri": "https://localhost:8080/"
        },
        "id": "IevrDkQHqJIr",
        "outputId": "f56f2734-20e2-4705-b799-289f05af3262"
      },
      "source": [
        "new_trainloader = torch.utils.data.DataLoader(new_trainset.to_dict(), batch_size=batch_size, shuffle=True, num_workers=2)\n",
        "print(new_trainloader)"
      ],
      "execution_count": null,
      "outputs": [
        {
          "output_type": "stream",
          "text": [
            "<torch.utils.data.dataloader.DataLoader object at 0x7f3e240cf650>\n"
          ],
          "name": "stdout"
        }
      ]
    },
    {
      "cell_type": "code",
      "metadata": {
        "id": "tZwmN7TKqVgy"
      },
      "source": [
        "net5 = network()\n",
        "crit5 = nn.CrossEntropyLoss()\n",
        "optimizer5 = optim.Adam(net5.parameters(), lr=0.001)\n",
        "tr5_accuracy, ts5_accuracy = train_net(new_trainloader, testloader, net5, crit5, optimizer5)\n",
        "\n",
        "\n",
        "\n",
        "plt.plot(x, tr5_accuracy, label='train', color='green')\n",
        "plt.plot(x, ts5_accuracy, label='test', color = 'blue')\n",
        "plt.legend()\n",
        "plt.title('train vs test accuracy in 10 epochs')\n",
        "plt.xlabel('accuracy')\n",
        "plt.ylabel('epochs')"
      ],
      "execution_count": null,
      "outputs": []
    },
    {
      "cell_type": "code",
      "metadata": {
        "id": "s8GBxPc7ti5I"
      },
      "source": [
        "class network4(nn.Module):\n",
        "  def __init__(self):\n",
        "    super().__init__()\n",
        "    self.conv1 = nn.Conv2d(3, 6, 4)\n",
        "    self.conv2 = nn.Conv2d(6, 12, 4)\n",
        "    self.conv3 = nn.Conv2d(12, 36, 4)\n",
        "    self.pool = nn.MaxPool2d(2,2)\n",
        "    self.fc1 = nn.Linear(36*1*1, 150)\n",
        "    self.fc2 = nn.Linear(150, 10)\n",
        "\n",
        "  def forward(self, input):\n",
        "    # print(\"input shape is: {}\".format(input.shape))\n",
        "    input = self.pool(f.relu(self.conv1(input)))\n",
        "    #print(\"layer one passed\")\n",
        "    #print(\"input shape is: {}\".format(input.shape))\n",
        "    input = self.pool(f.relu(self.conv2(input)))\n",
        "    #print(\"layer two passed\")\n",
        "    #print(\"input shape is: {}\".format(input.shape))\n",
        "    input = self.pool(f.relu(self.conv3(input)))\n",
        "    #print(\"layer three passed \\n input shape is: {}\".format(input.shape))\n",
        "    input = torch.flatten(input, 1)\n",
        "    input = f.relu(self.fc1(input))\n",
        "    input = self.fc2(input)\n",
        "\n",
        "    return input\n",
        "    \n",
        "net6 = network4()\n",
        "\n",
        "import torch.optim as optim\n",
        "\n",
        "crit6 = nn.CrossEntropyLoss()\n",
        "optimizer6 = optim.SGD(net6.parameters(), lr=0.001, momentum=0.9)"
      ],
      "execution_count": null,
      "outputs": []
    },
    {
      "cell_type": "code",
      "metadata": {
        "colab": {
          "base_uri": "https://localhost:8080/",
          "height": 499
        },
        "id": "SDDXNKs4uES8",
        "outputId": "6e78cec2-0dfd-4457-c7db-e5befe3bd05a"
      },
      "source": [
        "tr6_accuracy, ts6_accuracy = train_net(trainloader, testloader, net6, crit6, optimizer6)\n",
        "\n",
        "\n",
        "\n",
        "plt.plot(x, tr6_accuracy, label='train', color='green')\n",
        "plt.plot(x, ts6_accuracy, label='test', color = 'blue')\n",
        "plt.legend()\n",
        "plt.title('train vs test accuracies in 10 epochs')\n",
        "plt.xlabel('accuracy')\n",
        "plt.ylabel('epochs')"
      ],
      "execution_count": null,
      "outputs": [
        {
          "output_type": "stream",
          "text": [
            "epoch 0, train accuracy = 25.03, test accuracy = 38.72\n",
            "epoch 1, train accuracy = 42.662, test accuracy = 44.65\n",
            "epoch 2, train accuracy = 49.686, test accuracy = 52.01\n",
            "epoch 3, train accuracy = 54.138, test accuracy = 54.24\n",
            "epoch 4, train accuracy = 56.936, test accuracy = 55.879999999999995\n",
            "epoch 5, train accuracy = 59.065999999999995, test accuracy = 58.28\n",
            "epoch 6, train accuracy = 60.275999999999996, test accuracy = 60.11\n",
            "epoch 7, train accuracy = 61.196, test accuracy = 60.29\n",
            "epoch 8, train accuracy = 61.980000000000004, test accuracy = 59.89\n",
            "epoch 9, train accuracy = 62.748000000000005, test accuracy = 59.0\n",
            "finished training\n"
          ],
          "name": "stdout"
        },
        {
          "output_type": "execute_result",
          "data": {
            "text/plain": [
              "Text(0, 0.5, 'epochs')"
            ]
          },
          "metadata": {
            "tags": []
          },
          "execution_count": 109
        },
        {
          "output_type": "display_data",
          "data": {
            "image/png": "[encoded data removed]",
            "text/plain": [
              "<Figure size 432x288 with 1 Axes>"
            ]
          },
          "metadata": {
            "tags": [],
            "needs_background": "light"
          }
        }
      ]
    },
    {
      "cell_type": "code",
      "metadata": {
        "id": "oQI8kihcw1Qt",
        "colab": {
          "base_uri": "https://localhost:8080/",
          "height": 499
        },
        "outputId": "0293d7c1-73b6-44d7-9c1b-b6222786da2a"
      },
      "source": [
        "class network5(nn.Module):\n",
        "  def __init__(self, dout):\n",
        "    super().__init__()\n",
        "    self.conv1 = nn.Conv2d(3, 6, 3)\n",
        "    self.conv2 = nn.Conv2d(6, 12, 3)\n",
        "    self.conv3 = nn.Conv2d(12, 36, 3)\n",
        "    self.pool = nn.MaxPool2d(2,2)\n",
        "    self.fc1 = nn.Linear(36*2*2, 150)\n",
        "    self.fc2 = nn.Linear(150, 10)\n",
        "    self.dropout = nn.Dropout(dout)\n",
        "\n",
        "  def forward(self, input):\n",
        "    # print(\"input shape is: {}\".format(input.shape))\n",
        "    input = self.pool(self.dropout(f.relu(self.conv1(input))))\n",
        "    #print(\"layer one passed\")\n",
        "    #print(\"input shape is: {}\".format(input.shape))\n",
        "    input = self.pool(self.dropout(f.relu(self.conv2(input))))\n",
        "    #print(\"layer two passed\")\n",
        "    #print(\"input shape is: {}\".format(input.shape))\n",
        "    input = self.pool(self.dropout(f.relu(self.conv3(input))))\n",
        "    #print(\"layer three passed \\n input shape is: {}\".format(input.shape))\n",
        "    input = torch.flatten(input, 1)\n",
        "    input = self.dropout(f.relu(self.fc1(input)))\n",
        "    input = self.fc2(input)\n",
        "\n",
        "    return input\n",
        "    \n",
        "net7 = network5(0.3)\n",
        "\n",
        "import torch.optim as optim\n",
        "\n",
        "crit7 = nn.CrossEntropyLoss()\n",
        "optimizer7 = optim.SGD(net7.parameters(), lr=0.001, momentum=0.9)\n",
        "\n",
        "tr7_accuracy, ts7_accuracy = train_net(trainloader, testloader, net7, crit7, optimizer7)\n",
        "\n",
        "\n",
        "\n",
        "plt.plot(x, tr7_accuracy, label='train', color='green')\n",
        "plt.plot(x, ts7_accuracy, label='test', color = 'blue')\n",
        "plt.legend()\n",
        "plt.title('train vs test accuracies in 10 epochs')\n",
        "plt.xlabel('accuracy')\n",
        "plt.ylabel('epochs')"
      ],
      "execution_count": 114,
      "outputs": [
        {
          "output_type": "stream",
          "text": [
            "epoch 0, train accuracy = 31.612000000000002, test accuracy = 39.86\n",
            "epoch 1, train accuracy = 42.724000000000004, test accuracy = 46.6\n",
            "epoch 2, train accuracy = 46.938, test accuracy = 47.92\n",
            "epoch 3, train accuracy = 49.452, test accuracy = 49.93\n",
            "epoch 4, train accuracy = 51.636, test accuracy = 52.7\n",
            "epoch 5, train accuracy = 52.916, test accuracy = 53.81\n",
            "epoch 6, train accuracy = 54.093999999999994, test accuracy = 54.03\n",
            "epoch 7, train accuracy = 54.718, test accuracy = 53.71\n",
            "epoch 8, train accuracy = 55.391999999999996, test accuracy = 54.74\n",
            "epoch 9, train accuracy = 55.992, test accuracy = 55.36\n",
            "finished training\n"
          ],
          "name": "stdout"
        },
        {
          "output_type": "execute_result",
          "data": {
            "text/plain": [
              "Text(0, 0.5, 'epochs')"
            ]
          },
          "metadata": {
            "tags": []
          },
          "execution_count": 114
        },
        {
          "output_type": "display_data",
          "data": {
            "image/png": "[encoded data removed]",
            "text/plain": [
              "<Figure size 432x288 with 1 Axes>"
            ]
          },
          "metadata": {
            "tags": [],
            "needs_background": "light"
          }
        }
      ]
    },
    {
      "cell_type": "markdown",
      "metadata": {
        "id": "Jub2ZLQl2l4S"
      },
      "source": [
        "## Question 3 - Data Augmentation"
      ]
    },
    {
      "cell_type": "code",
      "metadata": {
        "id": "rDeummqH2tFE"
      },
      "source": [
        "import tensorflow as tf\n",
        "import os\n",
        "from google.colab import drive\n",
        "\n",
        "drive.mount('/content/gdrive')\n",
        "root_path = 'gdrive/My Drive/NNDL - Spring 00/'\n",
        "os.chdir(root_path)"
      ],
      "execution_count": null,
      "outputs": []
    },
    {
      "cell_type": "code",
      "metadata": {
        "id": "1eHEk42J8Lo0"
      },
      "source": [
        "os.chdir('Mini Projects/MP1/')\n",
        "image = tf.keras.preprocessing.image.load_img('test.jpg', grayscale=False, color_mode=\"rgb\", target_size=None, interpolation=\"nearest\")"
      ],
      "execution_count": 119,
      "outputs": []
    },
    {
      "cell_type": "code",
      "metadata": {
        "id": "uTgY9xG18a5y"
      },
      "source": [
        ""
      ],
      "execution_count": null,
      "outputs": []
    }
  ]
}