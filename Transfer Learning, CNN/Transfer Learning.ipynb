{
  "nbformat": 4,
  "nbformat_minor": 0,
  "metadata": {
    "colab": {
      "name": "NN_mp1_q4.ipynb",
      "provenance": [],
      "collapsed_sections": []
    },
    "kernelspec": {
      "name": "python3",
      "display_name": "Python 3"
    },
    "language_info": {
      "name": "python"
    }
  },
  "cells": [
    {
      "cell_type": "code",
      "metadata": {
        "id": "DIaAuFeccArn"
      },
      "source": [
        "import tensorflow as tf\n",
        "from tensorflow import keras\n",
        "from tensorflow.keras.preprocessing import image\n",
        "from keras.applications import imagenet_utils\n",
        "from google.colab import drive\n",
        "\n",
        "import numpy as np\n"
      ],
      "execution_count": null,
      "outputs": []
    },
    {
      "cell_type": "code",
      "metadata": {
        "colab": {
          "base_uri": "https://localhost:8080/"
        },
        "id": "F85d7QtZmxpG",
        "outputId": "306c1862-f9f0-45f0-c403-d743f525c41b"
      },
      "source": [
        "drive.mount('/content/drive')\n",
        "path = '/content/drive/My Drive/Mini Projects/MP1/img1.jpg'"
      ],
      "execution_count": null,
      "outputs": [
        {
          "output_type": "stream",
          "text": [
            "Drive already mounted at /content/drive; to attempt to forcibly remount, call drive.mount(\"/content/drive\", force_remount=True).\n"
          ],
          "name": "stdout"
        }
      ]
    },
    {
      "cell_type": "code",
      "metadata": {
        "id": "7dUCYAzTniew"
      },
      "source": [
        "\n",
        "mobile = tf.keras.applications.mobilenet.MobileNet()"
      ],
      "execution_count": null,
      "outputs": []
    },
    {
      "cell_type": "code",
      "metadata": {
        "id": "nFJO_RWMnLmo"
      },
      "source": [
        "img = image.load_img(path , target_size=(224, 224))\n",
        "img_array = image.img_to_array(img)\n",
        "img_array_expanded_dims = np.expand_dims(img_array, axis=0)\n",
        "preprocessed_image = tf.keras.applications.mobilenet.preprocess_input(img_array_expanded_dims)\n",
        "predictions = mobile.predict(preprocessed_image)"
      ],
      "execution_count": null,
      "outputs": []
    },
    {
      "cell_type": "code",
      "metadata": {
        "id": "HtdgYjb3n9bT"
      },
      "source": [
        "results = imagenet_utils.decode_predictions(predictions)"
      ],
      "execution_count": null,
      "outputs": []
    },
    {
      "cell_type": "code",
      "metadata": {
        "colab": {
          "base_uri": "https://localhost:8080/"
        },
        "id": "1Sqm6vmPoFT9",
        "outputId": "9e4739c4-246d-451e-cf34-b18cd9c1bc68"
      },
      "source": [
        "results"
      ],
      "execution_count": null,
      "outputs": [
        {
          "output_type": "execute_result",
          "data": {
            "text/plain": [
              "[[('n03793489', 'mouse', 0.8481993),\n",
              "  ('n03085013', 'computer_keyboard', 0.09190321),\n",
              "  ('n04505470', 'typewriter_keyboard', 0.025318423),\n",
              "  ('n02992529', 'cellular_telephone', 0.011953145),\n",
              "  ('n04074963', 'remote_control', 0.011204316)]]"
            ]
          },
          "metadata": {
            "tags": []
          },
          "execution_count": 101
        }
      ]
    }
  ]
}